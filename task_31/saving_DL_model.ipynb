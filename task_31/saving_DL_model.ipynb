{
  "nbformat": 4,
  "nbformat_minor": 0,
  "metadata": {
    "colab": {
      "name": "saving_DL_model.ipynb",
      "provenance": [],
      "collapsed_sections": []
    },
    "kernelspec": {
      "name": "python3",
      "display_name": "Python 3"
    },
    "language_info": {
      "name": "python"
    }
  },
  "cells": [
    {
      "cell_type": "markdown",
      "metadata": {
        "id": "nsbZjtf9Ughk"
      },
      "source": [
        "*How  to save your deep learning model*"
      ]
    },
    {
      "cell_type": "markdown",
      "metadata": {
        "id": "71XIsAzgU02i"
      },
      "source": [
        "method one : by pikle\n"
      ]
    },
    {
      "cell_type": "code",
      "metadata": {
        "id": "qBki-8IjUpJt"
      },
      "source": [
        "# fit the model\n",
        "model.fit(X_train, y_train)\n",
        "\n",
        "# save the model\n",
        "import pickle\n",
        "pickle.dump(model, open(\"model.pkl\", \"wb\"))\n",
        "\n",
        "# load the model\n",
        "model = pickle.load(open(\"model.pkl\", \"rb\"))"
      ],
      "execution_count": null,
      "outputs": []
    },
    {
      "cell_type": "markdown",
      "metadata": {
        "id": "c7013LESVR5r"
      },
      "source": [
        "mehod two: "
      ]
    },
    {
      "cell_type": "code",
      "metadata": {
        "id": "0vnCTLm7XIKb"
      },
      "source": [
        "model = ...  # Get model (Sequential, Functional Model, or Model subclass)\n",
        "model.save('model_name.h5')\n",
        "\n",
        "from tensorflow import keras\n",
        "model = keras.models.load_model('path/to/location')"
      ],
      "execution_count": null,
      "outputs": []
    }
  ]
}