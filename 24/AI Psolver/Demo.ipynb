{
 "cells": [
  {
   "cell_type": "markdown",
   "id": "3d8f1b6b",
   "metadata": {},
   "source": [
    "# This demo app is designed for normal user who wants to predict \n",
    "# or know a class of a value based on data provided"
   ]
  },
  {
   "cell_type": "code",
   "execution_count": 1,
   "id": "7ac095d7",
   "metadata": {},
   "outputs": [
    {
     "name": "stdout",
     "output_type": "stream",
     "text": [
      "Welcome to the AI problem solver!\n",
      "\n",
      "please notice that this programme just for numeric data if your data have any strings we recomed you to fix your data first either by dummies or encoder\n",
      "please enter the name of problematic dataset that attached at the same file with this programme\n",
      "multi_Lreg.csv\n",
      "\n",
      " for Regression problem  press: 1 \n",
      " for classification problem press: 2\n",
      "1\n",
      "forlinearRegresstion with just one feature press: 1 \n",
      " for multi features press : 2\n",
      "2\n",
      "enter the name of the column you want to predict\n",
      "price\n",
      "enter the number of features to be predicted\n",
      "3\n",
      "enter your 1 prediction\n",
      "4000\n",
      "enter your 2 prediction\n",
      "4\n",
      "enter your 3 prediction\n",
      "40\n",
      "The pridicted value : [633859.57360038] \n",
      "\n",
      " model accuracy : 0.9550196399325818\n"
     ]
    }
   ],
   "source": [
    "from fuu1u import LogReg,Lreg,multi_LogReg,multi_Lreg\n",
    "\n",
    "\n",
    "print(\"Welcome to the AI problem solver!\\n\")\n",
    "print(\"please notice that this programme just for numeric data if your data have any strings we recomed you to fix your data first either by dummies or encoder\")\n",
    "\n",
    "data = input(\"please enter the name of problematic dataset that attached at the same file with this programme\\n\")\n",
    "y = input(\"\\n for Regression problem  press: 1 \\n for classification problem press: 2\\n\")\n",
    "def solver(data,problem_type):\n",
    "    \n",
    "    if problem_type=='1':\n",
    "        z =input(\"forlinearRegresstion with just one feature press: 1 \\n for multi features press : 2\\n\")\n",
    "        if z==\"1\":\n",
    "            \n",
    "            info = input(\"enter the name of the column you want to predict\\n\")\n",
    "            value = input(\"enter the value to be predicted\\n\")\n",
    "            Lreg(data,info,value)\n",
    "    \n",
    "        else:\n",
    "            infos = input(\"enter the name of the column you want to predict\\n\")\n",
    "            values = input(\"enter the number of features to be predicted\\n\")\n",
    "            multi_Lreg(data,infos,values)\n",
    "\n",
    "        \n",
    "       \n",
    "        \n",
    "    else:\n",
    "        b=input(\"for binary classification press: 1 \\n for multi classification press : 2\\n\")\n",
    "        if b==\"1\":\n",
    "            \n",
    "            info = input(\"enter the name of the column that classification built on\\n\")\n",
    "            value = input(\"enter the value to be classified\\n\")\n",
    "            LogReg(data,info,value)\n",
    "    \n",
    "        else:\n",
    "            infos = input(\"enter the name of the column that classification built on\\n\")\n",
    "            values = input(\"enter the number of features to be classified\\n\")\n",
    "            multi_LogReg(data,infos,values)\n",
    "\n",
    "        \n",
    "        \n",
    "        \n",
    "          \n",
    "        \n",
    "        \n",
    "solver(data,y)      "
   ]
  },
  {
   "cell_type": "code",
   "execution_count": null,
   "id": "42fcb0cc",
   "metadata": {},
   "outputs": [],
   "source": []
  }
 ],
 "metadata": {
  "kernelspec": {
   "display_name": "Python 3",
   "language": "python",
   "name": "python3"
  },
  "language_info": {
   "codemirror_mode": {
    "name": "ipython",
    "version": 3
   },
   "file_extension": ".py",
   "mimetype": "text/x-python",
   "name": "python",
   "nbconvert_exporter": "python",
   "pygments_lexer": "ipython3",
   "version": "3.8.8"
  }
 },
 "nbformat": 4,
 "nbformat_minor": 5
}
