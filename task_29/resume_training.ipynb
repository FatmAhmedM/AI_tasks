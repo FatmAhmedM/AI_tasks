{
  "nbformat": 4,
  "nbformat_minor": 0,
  "metadata": {
    "colab": {
      "name": "resume training.ipynb",
      "provenance": [],
      "collapsed_sections": []
    },
    "kernelspec": {
      "name": "python3",
      "display_name": "Python 3"
    },
    "language_info": {
      "name": "python"
    }
  },
  "cells": [
    {
      "cell_type": "markdown",
      "metadata": {
        "id": "nsbZjtf9Ughk"
      },
      "source": [
        "*how to stop and resume training in tensorflow*"
      ]
    },
    {
      "cell_type": "code",
      "metadata": {
        "id": "qBki-8IjUpJt"
      },
      "source": [
        "aver.save(sess, 'my-model', global_step=0) ==> filename: 'my-model-0'\n",
        "...\n",
        "saver.save(sess, 'my-model', global_step=1000) ==> filename: 'my-model-1000'\n",
        "\n",
        "#resume\n",
        "tf.train.Saver.restore(sess, save_path)"
      ],
      "execution_count": null,
      "outputs": []
    },
    {
      "cell_type": "markdown",
      "metadata": {
        "id": "c7013LESVR5r"
      },
      "source": [
        "ref: https://stackoverflow.com/questions/33689598/how-to-pause-resume-training-in-tensorflow"
      ]
    },
    {
      "cell_type": "code",
      "metadata": {
        "id": "vYZvxyQX2RNK"
      },
      "source": [
        ""
      ],
      "execution_count": null,
      "outputs": []
    }
  ]
}