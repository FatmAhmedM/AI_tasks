{
 "cells": [
  {
   "cell_type": "markdown",
   "id": "60674128",
   "metadata": {},
   "source": [
    "# how to read video (image and audio) by cv2"
   ]
  },
  {
   "cell_type": "code",
   "execution_count": 2,
   "id": "821eab0e",
   "metadata": {},
   "outputs": [
    {
     "name": "stdout",
     "output_type": "stream",
     "text": [
      "End of video\n"
     ]
    }
   ],
   "source": [
    "import cv2\n",
    "import numpy as np\n",
    "#ffpyplayer for playing audio\n",
    "from ffpyplayer.player import MediaPlayer\n",
    "video_path=\"videoplayback.mp4\"\n",
    "def PlayVideo(video_path):\n",
    "    video=cv2.VideoCapture(video_path)\n",
    "    player = MediaPlayer(video_path)\n",
    "    while True:\n",
    "        grabbed, frame=video.read()\n",
    "        audio_frame, val = player.get_frame()\n",
    "        if not grabbed:\n",
    "            print(\"End of video\")\n",
    "            break\n",
    "        if cv2.waitKey(28) & 0xFF == ord(\"q\"):\n",
    "            break\n",
    "        cv2.imshow(\"Video\", frame)\n",
    "        if val != 'eof' and audio_frame is not None:\n",
    "            #audio\n",
    "            img, t = audio_frame\n",
    "    video.release()\n",
    "    cv2.destroyAllWindows()\n",
    "PlayVideo(video_path)"
   ]
  },
  {
   "cell_type": "markdown",
   "id": "0b546a61",
   "metadata": {},
   "source": [
    "# using ACM (active contour module) how can you detect objects¶\n",
    "for more https://learnopencv.com/contour-detection-using-opencv-python-c/"
   ]
  },
  {
   "cell_type": "code",
   "execution_count": null,
   "id": "283121a4",
   "metadata": {},
   "outputs": [],
   "source": [
    "mport cv2\n",
    "\n",
    "image = cv2.imread('maxresdefault.jpg') # BGR image\n",
    "img_gray = cv2.cvtColor(image, cv2.COLOR_BGR2GRAY)\n",
    "# apply binary thresholding\n",
    "\n",
    "ret, thresh = cv2.threshold(img_gray, 150, 255, cv2.THRESH_BINARY)\n",
    "# detect the contours on the binary image using cv2.CHAIN_APPROX_NONE\n",
    "\n",
    "contours, hierarchy = cv2.findContours(image=thresh, mode=cv2.RETR_TREE, method=cv2.CHAIN_APPROX_NONE)\n",
    "                                    \n",
    "# draw contours on the original image\n",
    "\n",
    "image_copy = image.copy()\n",
    "\n",
    "cv2.drawContours(image=image_copy, contours=contours, contourIdx=-1, color=(0, 255, 0), thickness=2, lineType=cv2.LINE_AA)\n",
    "\n",
    "# see the results\n",
    "\n",
    "cv2.imshow('None approximation', image_copy)\n",
    "\n",
    "cv2.waitKey(0)\n",
    "\n",
    "cv2.imwrite('contours_none_image1.jpg', image_copy)\n",
    "\n",
    "cv2.destroyAllWindows()\n",
    "\n"
   ]
  }
 ],
 "metadata": {
  "kernelspec": {
   "display_name": "Python 3",
   "language": "python",
   "name": "python3"
  },
  "language_info": {
   "codemirror_mode": {
    "name": "ipython",
    "version": 3
   },
   "file_extension": ".py",
   "mimetype": "text/x-python",
   "name": "python",
   "nbconvert_exporter": "python",
   "pygments_lexer": "ipython3",
   "version": "3.8.8"
  }
 },
 "nbformat": 4,
 "nbformat_minor": 5
}
